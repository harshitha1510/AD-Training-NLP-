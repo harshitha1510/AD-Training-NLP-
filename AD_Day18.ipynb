{
  "nbformat": 4,
  "nbformat_minor": 0,
  "metadata": {
    "colab": {
      "provenance": [],
      "authorship_tag": "ABX9TyOEu+K3dftA8+i1Jz3jSQ9E",
      "include_colab_link": true
    },
    "kernelspec": {
      "name": "python3",
      "display_name": "Python 3"
    },
    "language_info": {
      "name": "python"
    }
  },
  "cells": [
    {
      "cell_type": "markdown",
      "metadata": {
        "id": "view-in-github",
        "colab_type": "text"
      },
      "source": [
        "<a href=\"https://colab.research.google.com/github/harshitha1510/NLP-Training-Assignments/blob/main/AD_Day18.ipynb\" target=\"_parent\"><img src=\"https://colab.research.google.com/assets/colab-badge.svg\" alt=\"Open In Colab\"/></a>"
      ]
    },
    {
      "cell_type": "code",
      "source": [
        "!pip install --upgrade certifi\n"
      ],
      "metadata": {
        "colab": {
          "base_uri": "https://localhost:8080/"
        },
        "id": "c9nr5SPZIbSU",
        "outputId": "0edf905d-1cc6-4938-f27d-0cdb7b3733b7"
      },
      "execution_count": 5,
      "outputs": [
        {
          "output_type": "stream",
          "name": "stdout",
          "text": [
            "Requirement already satisfied: certifi in /usr/local/lib/python3.11/dist-packages (2025.1.31)\n"
          ]
        }
      ]
    },
    {
      "cell_type": "code",
      "source": [
        "import requests\n",
        "import certifi\n",
        "from bs4 import BeautifulSoup\n",
        "\n",
        "def fetch_page_title(url):\n",
        "    \"\"\"Fetches and prints the title of the given webpage with updated SSL certificates.\"\"\"\n",
        "    try:\n",
        "        response = requests.get(url, verify=certifi.where())  # Use updated certificates\n",
        "        if response.status_code == 200:\n",
        "            soup = BeautifulSoup(response.text, 'html.parser')\n",
        "            return soup.title.string if soup.title else \"No title found\"\n",
        "        else:\n",
        "            return f\"Failed to fetch page, status code: {response.status_code}\"\n",
        "    except requests.exceptions.SSLError as e:\n",
        "        return f\"SSL Error: {e}\"\n",
        "\n",
        "# Test the function\n",
        "url = 'https://example.com'\n",
        "print(fetch_page_title(url))\n"
      ],
      "metadata": {
        "colab": {
          "base_uri": "https://localhost:8080/"
        },
        "id": "Rn0ATMvmI3FP",
        "outputId": "a8573bba-ff4a-4803-a935-40a58557335a"
      },
      "execution_count": 6,
      "outputs": [
        {
          "output_type": "stream",
          "name": "stdout",
          "text": [
            "SSL Error: HTTPSConnectionPool(host='example.com', port=443): Max retries exceeded with url: / (Caused by SSLError(SSLError(1, '[SSL: TLSV1_ALERT_INTERNAL_ERROR] tlsv1 alert internal error (_ssl.c:1006)')))\n"
          ]
        }
      ]
    },
    {
      "cell_type": "code",
      "source": [],
      "metadata": {
        "id": "V6TTvsegJCaE"
      },
      "execution_count": null,
      "outputs": []
    }
  ]
}