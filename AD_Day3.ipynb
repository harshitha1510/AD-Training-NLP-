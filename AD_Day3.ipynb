{
  "nbformat": 4,
  "nbformat_minor": 0,
  "metadata": {
    "colab": {
      "provenance": [],
      "authorship_tag": "ABX9TyMl++xO/3LJYCGTJNi1HHGC",
      "include_colab_link": true
    },
    "kernelspec": {
      "name": "python3",
      "display_name": "Python 3"
    },
    "language_info": {
      "name": "python"
    }
  },
  "cells": [
    {
      "cell_type": "markdown",
      "metadata": {
        "id": "view-in-github",
        "colab_type": "text"
      },
      "source": [
        "<a href=\"https://colab.research.google.com/github/harshitha1510/AD-Training-NLP-/blob/main/AD_Day3.ipynb\" target=\"_parent\"><img src=\"https://colab.research.google.com/assets/colab-badge.svg\" alt=\"Open In Colab\"/></a>"
      ]
    },
    {
      "cell_type": "code",
      "execution_count": 1,
      "metadata": {
        "colab": {
          "base_uri": "https://localhost:8080/"
        },
        "id": "mSLCmNnPpzrn",
        "outputId": "aa848f07-c8e6-4dcc-caf6-5c1672ebb8df"
      },
      "outputs": [
        {
          "output_type": "stream",
          "name": "stdout",
          "text": [
            "Enter marks for Subject 1: 78\n",
            "Enter marks for Subject 2: 85\n",
            "Enter marks for Subject 3: 90\n",
            "Grade: B\n"
          ]
        }
      ],
      "source": [
        "#Write a Python program that takes a student's marks in three subjects as input.\n",
        "  #If the average is greater than or equal to 90, print \"Grade: A\".\n",
        "  #If the average is between 80 and 89, print \"Grade: B\".\n",
        "  #If the average is between 70 and 79, print \"Grade: C\".\n",
        "  #Otherwise, print \"Grade: Fail\".\n",
        "\n",
        "# Taking marks for three subjects as input\n",
        "subject1 = float(input(\"Enter marks for Subject 1: \"))\n",
        "subject2 = float(input(\"Enter marks for Subject 2: \"))\n",
        "subject3 = float(input(\"Enter marks for Subject 3: \"))\n",
        "\n",
        "# Calculating the average\n",
        "average = (subject1 + subject2 + subject3) / 3\n",
        "\n",
        "# Determining the grade based on the average\n",
        "if average >= 90:\n",
        "    print(\"Grade: A\")\n",
        "elif 80 <= average < 90:\n",
        "    print(\"Grade: B\")\n",
        "elif 70 <= average < 80:\n",
        "    print(\"Grade: C\")\n",
        "else:\n",
        "    print(\"Grade: Fail\")\n",
        "\n"
      ]
    },
    {
      "cell_type": "code",
      "source": [],
      "metadata": {
        "id": "CMKE-m8hqSXJ"
      },
      "execution_count": null,
      "outputs": []
    }
  ]
}