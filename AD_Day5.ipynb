{
  "nbformat": 4,
  "nbformat_minor": 0,
  "metadata": {
    "colab": {
      "provenance": [],
      "authorship_tag": "ABX9TyMJ+N+Dh7NMGkwbmZ6wZibf",
      "include_colab_link": true
    },
    "kernelspec": {
      "name": "python3",
      "display_name": "Python 3"
    },
    "language_info": {
      "name": "python"
    }
  },
  "cells": [
    {
      "cell_type": "markdown",
      "metadata": {
        "id": "view-in-github",
        "colab_type": "text"
      },
      "source": [
        "<a href=\"https://colab.research.google.com/github/harshitha1510/AD-Training-NLP-/blob/main/AD_Day5.ipynb\" target=\"_parent\"><img src=\"https://colab.research.google.com/assets/colab-badge.svg\" alt=\"Open In Colab\"/></a>"
      ]
    },
    {
      "cell_type": "code",
      "execution_count": 1,
      "metadata": {
        "colab": {
          "base_uri": "https://localhost:8080/"
        },
        "id": "OI0AZb7or3Vu",
        "outputId": "0fc5d9af-d5f3-441e-8da4-e8d0dd45eaa0"
      },
      "outputs": [
        {
          "output_type": "stream",
          "name": "stdout",
          "text": [
            "Enter a text: Enter a text: This is a test. This test is fun.\n",
            "\n",
            "Word Frequencies:\n",
            "enter: 1\n",
            "a: 2\n",
            "text:: 1\n",
            "this: 2\n",
            "is: 2\n",
            "test.: 1\n",
            "test: 1\n",
            "fun.: 1\n"
          ]
        }
      ],
      "source": [
        "#Write a Python program to calculate the frequency of each word in a given text. Print the words and their corresponding counts\n",
        "\n",
        "# Taking input text from the user\n",
        "text = input(\"Enter a text: \")\n",
        "\n",
        "# Converting the text to lowercase and splitting it into words\n",
        "words = text.lower().split()\n",
        "\n",
        "# Initializing an empty dictionary to store word frequencies\n",
        "word_counts = {}\n",
        "\n",
        "# Counting the frequency of each word\n",
        "for word in words:\n",
        "    word_counts[word] = word_counts.get(word, 0) + 1\n",
        "\n",
        "# Printing the words and their counts\n",
        "print(\"\\nWord Frequencies:\")\n",
        "for word, count in word_counts.items():\n",
        "    print(f\"{word}: {count}\")\n"
      ]
    },
    {
      "cell_type": "code",
      "source": [],
      "metadata": {
        "id": "IZPthzEKsc54"
      },
      "execution_count": null,
      "outputs": []
    }
  ]
}