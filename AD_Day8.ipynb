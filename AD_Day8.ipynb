{
  "nbformat": 4,
  "nbformat_minor": 0,
  "metadata": {
    "colab": {
      "provenance": [],
      "authorship_tag": "ABX9TyObTDRy7DO2vBAVhAv9PRlG",
      "include_colab_link": true
    },
    "kernelspec": {
      "name": "python3",
      "display_name": "Python 3"
    },
    "language_info": {
      "name": "python"
    }
  },
  "cells": [
    {
      "cell_type": "markdown",
      "metadata": {
        "id": "view-in-github",
        "colab_type": "text"
      },
      "source": [
        "<a href=\"https://colab.research.google.com/github/harshitha1510/AD-Training-NLP-/blob/main/AD_Day8.ipynb\" target=\"_parent\"><img src=\"https://colab.research.google.com/assets/colab-badge.svg\" alt=\"Open In Colab\"/></a>"
      ]
    },
    {
      "cell_type": "code",
      "execution_count": 5,
      "metadata": {
        "colab": {
          "base_uri": "https://localhost:8080/"
        },
        "id": "JlU-19gvx_ZO",
        "outputId": "378bef69-8557-40f8-ef2b-5e8f0bb0e3ee"
      },
      "outputs": [
        {
          "output_type": "stream",
          "name": "stdout",
          "text": [
            "Requirement already satisfied: nltk in /usr/local/lib/python3.11/dist-packages (3.9.1)\n",
            "Requirement already satisfied: click in /usr/local/lib/python3.11/dist-packages (from nltk) (8.1.8)\n",
            "Requirement already satisfied: joblib in /usr/local/lib/python3.11/dist-packages (from nltk) (1.4.2)\n",
            "Requirement already satisfied: regex>=2021.8.3 in /usr/local/lib/python3.11/dist-packages (from nltk) (2024.11.6)\n",
            "Requirement already satisfied: tqdm in /usr/local/lib/python3.11/dist-packages (from nltk) (4.67.1)\n"
          ]
        }
      ],
      "source": [
        "#Tokenizes a sample paragraph into words and sentences.\n",
        "!pip install nltk\n"
      ]
    },
    {
      "cell_type": "code",
      "source": [
        "import nltk\n",
        "nltk.download('punkt')\n",
        "nltk.download('wordnet')  # Optional for other tasks\n"
      ],
      "metadata": {
        "colab": {
          "base_uri": "https://localhost:8080/"
        },
        "id": "ygUBWOgV6TIy",
        "outputId": "3faaad27-4114-4bfb-ca50-1a8ec8cff96f"
      },
      "execution_count": 4,
      "outputs": [
        {
          "output_type": "stream",
          "name": "stderr",
          "text": [
            "[nltk_data] Downloading package punkt to /root/nltk_data...\n",
            "[nltk_data]   Package punkt is already up-to-date!\n",
            "[nltk_data] Downloading package wordnet to /root/nltk_data...\n"
          ]
        },
        {
          "output_type": "execute_result",
          "data": {
            "text/plain": [
              "True"
            ]
          },
          "metadata": {},
          "execution_count": 4
        }
      ]
    },
    {
      "cell_type": "code",
      "source": [
        "import nltk\n",
        "from nltk.tokenize import word_tokenize, sent_tokenize\n",
        "\n",
        "# Re-download the 'punkt' package to ensure all files are intact\n",
        "nltk.download('punkt')\n",
        "nltk.download('punkt_tab')\n",
        "\n",
        "# Sample paragraph\n",
        "paragraph = \"\"\"\n",
        "Natural Language Processing (NLP) is a fascinating field of artificial intelligence.\n",
        "It helps machines understand, interpret, and respond to human language. Tokenization is one of the first steps in NLP!\n",
        "\"\"\"\n",
        "\n",
        "# Sentence Tokenization\n",
        "try:\n",
        "    sentences = sent_tokenize(paragraph)\n",
        "    print(\"Sentence Tokenization:\")\n",
        "    for i, sentence in enumerate(sentences, 1):\n",
        "        print(f\"{i}. {sentence}\")\n",
        "except LookupError as e:\n",
        "    print(\"Error during sentence tokenization:\", e)\n",
        "\n",
        "# Word Tokenization\n",
        "try:\n",
        "    words = word_tokenize(paragraph)\n",
        "    print(\"\\nWord Tokenization:\")\n",
        "    print(words)\n",
        "except LookupError as e:\n",
        "    print(\"Error during word tokenization:\", e)\n"
      ],
      "metadata": {
        "colab": {
          "base_uri": "https://localhost:8080/"
        },
        "id": "JD2_LQLryajo",
        "outputId": "a7df4e0d-de40-4340-f0f2-bbdd04353b61"
      },
      "execution_count": 6,
      "outputs": [
        {
          "output_type": "stream",
          "name": "stderr",
          "text": [
            "[nltk_data] Downloading package punkt to /root/nltk_data...\n",
            "[nltk_data]   Package punkt is already up-to-date!\n",
            "[nltk_data] Downloading package punkt_tab to /root/nltk_data...\n",
            "[nltk_data]   Unzipping tokenizers/punkt_tab.zip.\n"
          ]
        },
        {
          "output_type": "stream",
          "name": "stdout",
          "text": [
            "Sentence Tokenization:\n",
            "1. \n",
            "Natural Language Processing (NLP) is a fascinating field of artificial intelligence.\n",
            "2. It helps machines understand, interpret, and respond to human language.\n",
            "3. Tokenization is one of the first steps in NLP!\n",
            "\n",
            "Word Tokenization:\n",
            "['Natural', 'Language', 'Processing', '(', 'NLP', ')', 'is', 'a', 'fascinating', 'field', 'of', 'artificial', 'intelligence', '.', 'It', 'helps', 'machines', 'understand', ',', 'interpret', ',', 'and', 'respond', 'to', 'human', 'language', '.', 'Tokenization', 'is', 'one', 'of', 'the', 'first', 'steps', 'in', 'NLP', '!']\n"
          ]
        }
      ]
    },
    {
      "cell_type": "code",
      "source": [],
      "metadata": {
        "id": "8CIHuM2SyfDC"
      },
      "execution_count": null,
      "outputs": []
    }
  ]
}