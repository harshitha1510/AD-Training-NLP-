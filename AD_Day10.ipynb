{
  "nbformat": 4,
  "nbformat_minor": 0,
  "metadata": {
    "colab": {
      "provenance": [],
      "authorship_tag": "ABX9TyNZB2zNk504UaD/Enw6AVZD",
      "include_colab_link": true
    },
    "kernelspec": {
      "name": "python3",
      "display_name": "Python 3"
    },
    "language_info": {
      "name": "python"
    }
  },
  "cells": [
    {
      "cell_type": "markdown",
      "metadata": {
        "id": "view-in-github",
        "colab_type": "text"
      },
      "source": [
        "<a href=\"https://colab.research.google.com/github/harshitha1510/AD-Training-NLP-/blob/main/AD_Day10.ipynb\" target=\"_parent\"><img src=\"https://colab.research.google.com/assets/colab-badge.svg\" alt=\"Open In Colab\"/></a>"
      ]
    },
    {
      "cell_type": "code",
      "execution_count": 1,
      "metadata": {
        "colab": {
          "base_uri": "https://localhost:8080/"
        },
        "id": "-1a7HqRq8F8v",
        "outputId": "ec726e0a-f718-4610-9cb5-393f508aaeb8"
      },
      "outputs": [
        {
          "output_type": "stream",
          "name": "stdout",
          "text": [
            "Extracted email addresses: ['support@example.com', 'sales@example.org']\n"
          ]
        }
      ],
      "source": [
        "#Write a Python function using regular expressions to extract all email addresses from a given string. Test it with the input: 'Contact us at support@example.com and sales@example.org.'\n",
        "\n",
        "\n",
        "import re\n",
        "\n",
        "def extract_emails(text):\n",
        "    # Regular expression pattern for matching email addresses\n",
        "    email_pattern = r'[a-zA-Z0-9._%+-]+@[a-zA-Z0-9.-]+\\.[a-zA-Z]{2,}'\n",
        "\n",
        "    # Find all matching email addresses using re.findall()\n",
        "    emails = re.findall(email_pattern, text)\n",
        "\n",
        "    return emails\n",
        "\n",
        "# Test the function with the provided input\n",
        "test_input = 'Contact us at support@example.com and sales@example.org.'\n",
        "emails = extract_emails(test_input)\n",
        "\n",
        "# Print the extracted email addresses\n",
        "print(\"Extracted email addresses:\", emails)"
      ]
    },
    {
      "cell_type": "code",
      "source": [],
      "metadata": {
        "id": "NdT0jbY78iVb"
      },
      "execution_count": null,
      "outputs": []
    }
  ]
}