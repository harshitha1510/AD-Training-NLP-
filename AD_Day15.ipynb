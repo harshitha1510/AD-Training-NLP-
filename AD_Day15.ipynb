{
  "nbformat": 4,
  "nbformat_minor": 0,
  "metadata": {
    "colab": {
      "provenance": [],
      "authorship_tag": "ABX9TyPyRBTgFLOsvu/uZYR1gCYV",
      "include_colab_link": true
    },
    "kernelspec": {
      "name": "python3",
      "display_name": "Python 3"
    },
    "language_info": {
      "name": "python"
    }
  },
  "cells": [
    {
      "cell_type": "markdown",
      "metadata": {
        "id": "view-in-github",
        "colab_type": "text"
      },
      "source": [
        "<a href=\"https://colab.research.google.com/github/harshitha1510/NLP-Training-Assignments/blob/main/AD_Day15.ipynb\" target=\"_parent\"><img src=\"https://colab.research.google.com/assets/colab-badge.svg\" alt=\"Open In Colab\"/></a>"
      ]
    },
    {
      "cell_type": "code",
      "execution_count": 1,
      "metadata": {
        "colab": {
          "base_uri": "https://localhost:8080/"
        },
        "id": "BoiEEEnAHbT1",
        "outputId": "eadb034b-9d3a-49c6-d56f-e27905c01797"
      },
      "outputs": [
        {
          "output_type": "stream",
          "name": "stdout",
          "text": [
            "['support@example.com', 'sales@example.org']\n"
          ]
        }
      ],
      "source": [
        "#Write a Python function using regular expressions to extract all email addresses from a given string. Test it with the input: 'Contact us at support@example.com and sales@example.org.'\n",
        "import re\n",
        "\n",
        "def extract_emails(text):\n",
        "    \"\"\"Extracts all email addresses from the given text using regex.\"\"\"\n",
        "    email_pattern = r'[a-zA-Z0-9._%+-]+@[a-zA-Z0-9.-]+\\.[a-zA-Z]{2,}'\n",
        "    return re.findall(email_pattern, text)\n",
        "\n",
        "# Test the function\n",
        "test_text = 'Contact us at support@example.com and sales@example.org.'\n",
        "print(extract_emails(test_text))\n"
      ]
    },
    {
      "cell_type": "code",
      "source": [],
      "metadata": {
        "id": "aSdjdtmNHiuZ"
      },
      "execution_count": null,
      "outputs": []
    }
  ]
}