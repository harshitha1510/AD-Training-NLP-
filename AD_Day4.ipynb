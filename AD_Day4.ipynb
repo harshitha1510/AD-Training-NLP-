{
  "nbformat": 4,
  "nbformat_minor": 0,
  "metadata": {
    "colab": {
      "provenance": [],
      "authorship_tag": "ABX9TyNohyzc7Fzz8nKzld3Pr3/x",
      "include_colab_link": true
    },
    "kernelspec": {
      "name": "python3",
      "display_name": "Python 3"
    },
    "language_info": {
      "name": "python"
    }
  },
  "cells": [
    {
      "cell_type": "markdown",
      "metadata": {
        "id": "view-in-github",
        "colab_type": "text"
      },
      "source": [
        "<a href=\"https://colab.research.google.com/github/harshitha1510/AD-Training-NLP-/blob/main/AD_Day4.ipynb\" target=\"_parent\"><img src=\"https://colab.research.google.com/assets/colab-badge.svg\" alt=\"Open In Colab\"/></a>"
      ]
    },
    {
      "cell_type": "code",
      "execution_count": 1,
      "metadata": {
        "colab": {
          "base_uri": "https://localhost:8080/"
        },
        "id": "X2z-auJcqqX2",
        "outputId": "5382a96d-ef21-4328-b861-87c0349775b1"
      },
      "outputs": [
        {
          "output_type": "stream",
          "name": "stdout",
          "text": [
            "Enter a positive integer: 5\n",
            "The sum of all even numbers between 1 and 5 is: 6\n"
          ]
        }
      ],
      "source": [
        "#Write a Python program to calculate the sum of all even numbers between 1 and a given positive integer n\n",
        "\n",
        "# Taking input for the positive integer n\n",
        "n = int(input(\"Enter a positive integer: \"))\n",
        "\n",
        "# Initialize the sum\n",
        "even_sum = 0\n",
        "\n",
        "# Calculate the sum of all even numbers between 1 and n\n",
        "for i in range(2, n + 1, 2):  # Start at 2 and increment by 2\n",
        "    even_sum += i\n",
        "\n",
        "# Print the result\n",
        "print(f\"The sum of all even numbers between 1 and {n} is: {even_sum}\")\n"
      ]
    },
    {
      "cell_type": "code",
      "source": [],
      "metadata": {
        "id": "NAq7mN4XrRu5"
      },
      "execution_count": null,
      "outputs": []
    }
  ]
}